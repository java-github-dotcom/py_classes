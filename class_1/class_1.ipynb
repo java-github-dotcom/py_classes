{
 "cells": [
  {
   "cell_type": "code",
   "execution_count": 3,
   "metadata": {},
   "outputs": [],
   "source": [
    "import math "
   ]
  },
  {
   "cell_type": "markdown",
   "metadata": {},
   "source": [
    "1"
   ]
  },
  {
   "cell_type": "code",
   "execution_count": 26,
   "metadata": {},
   "outputs": [],
   "source": [
    "def P_kvadrat(a):\n",
    "    return f'P = {a*4}'"
   ]
  },
  {
   "cell_type": "code",
   "execution_count": 27,
   "metadata": {},
   "outputs": [],
   "source": [
    "def S_kvadrat(a):\n",
    "    return f'S = {a**2}'"
   ]
  },
  {
   "cell_type": "code",
   "execution_count": 28,
   "metadata": {},
   "outputs": [],
   "source": [
    "def SP_tb(a, b):\n",
    "    return f'S = {a*b}\\nP = {2*(a+b)}'"
   ]
  },
  {
   "cell_type": "code",
   "execution_count": 29,
   "metadata": {},
   "outputs": [],
   "source": [
    "def diametr(d):\n",
    "    return f'L = {math.pi * d}'"
   ]
  },
  {
   "cell_type": "code",
   "execution_count": 30,
   "metadata": {},
   "outputs": [],
   "source": [
    "def SV_kub(a):\n",
    "    return f'S = {6*(a**2)}\\nV = {a**3}'"
   ]
  },
  {
   "cell_type": "code",
   "execution_count": 31,
   "metadata": {},
   "outputs": [],
   "source": [
    "def SV_parall(a, b, c):\n",
    "    return f'S = {2*(a*b + b*c + a*c)}\\nV = {a*b*c}'"
   ]
  },
  {
   "cell_type": "code",
   "execution_count": 33,
   "metadata": {},
   "outputs": [],
   "source": [
    "def LS_doira(R):\n",
    "    return f'L = {2*math.pi*R}\\n S = {math.pi*R**2}'"
   ]
  },
  {
   "cell_type": "code",
   "execution_count": 45,
   "metadata": {},
   "outputs": [],
   "source": [
    "def mean(a, b):\n",
    "    return (a+b)/2"
   ]
  },
  {
   "cell_type": "code",
   "execution_count": 48,
   "metadata": {},
   "outputs": [],
   "source": [
    "def orta_geometric(a, b):\n",
    "    if a<0 or b<0:\n",
    "        raise 'ValueError: check on the values'\n",
    "    else:\n",
    "        return f'O\\'rta geomteric = {(a*b)**0.5}'"
   ]
  },
  {
   "cell_type": "code",
   "execution_count": 81,
   "metadata": {},
   "outputs": [],
   "source": [
    "def aaa(a, b):\n",
    "    if a==0 or b==0:\n",
    "        raise ValueError\n",
    "    else:\n",
    "        print(f'''\n",
    "Yig'indisi = {a + b}\n",
    "Ko'paytmasi = {a * b}\n",
    "Kvadratlari: a: {a**2}, b: {b**2}\n",
    "        ''')"
   ]
  },
  {
   "cell_type": "markdown",
   "metadata": {},
   "source": [
    "11"
   ]
  },
  {
   "cell_type": "code",
   "execution_count": 85,
   "metadata": {},
   "outputs": [],
   "source": [
    "def bbb(a, b):\n",
    "    if a==0 or b==0:\n",
    "        raise ValueError\n",
    "    else:\n",
    "        print(f'''\n",
    "Yig'indisi = {a + b}\n",
    "Ko'paytmasi = {a * b}\n",
    "Modullari: a: {math.fabs(a)}, b: {math.fabs(b)}\n",
    "        ''')"
   ]
  },
  {
   "cell_type": "code",
   "execution_count": 1,
   "metadata": {},
   "outputs": [],
   "source": [
    "def aa1(a,b):\n",
    "    return f'c={(a**2+b**2)**0.5}\\nP={a+b+c}'"
   ]
  },
  {
   "cell_type": "code",
   "execution_count": 2,
   "metadata": {},
   "outputs": [],
   "source": [
    "def aa2(R1, R2):\n",
    "    if R2 < R1:\n",
    "        print('Please try again')\n",
    "    else:\n",
    "        return f'S1 = {math.pi * R1}\\nS2 = {math.pi * R2}\\nS3 = {math.pi * (R1 - R2)}'"
   ]
  },
  {
   "cell_type": "code",
   "execution_count": null,
   "metadata": {},
   "outputs": [],
   "source": [
    "def aa3(L):\n",
    "    return f'R = {L/2*math.pi}\\nS = {math.pi*(L/2*math.pi)**2}' "
   ]
  },
  {
   "cell_type": "code",
   "execution_count": null,
   "metadata": {},
   "outputs": [],
   "source": [
    "def aa4(L):\n",
    "    return f'd = {L/math.pi}\\nS = {math.pi*(L/2*math.pi)**2}'"
   ]
  },
  {
   "cell_type": "code",
   "execution_count": 11,
   "metadata": {},
   "outputs": [],
   "source": [
    "def aa5(x1, x2):\n",
    "    return f'Masofa = {math.fabs(int(x2-x1))}'"
   ]
  },
  {
   "cell_type": "code",
   "execution_count": 16,
   "metadata": {},
   "outputs": [],
   "source": [
    "def aa6(A, B, C):\n",
    "    return f'AC = {math.fabs(int(C-A))}\\nBC = {math.fabs(int(C-B))}\\nAC+BC = {math.fabs(int(C-A)) + math.fabs(int(C-B))}'"
   ]
  },
  {
   "cell_type": "code",
   "execution_count": 2,
   "metadata": {},
   "outputs": [],
   "source": [
    "def aa7(A, B, C):\n",
    "    if C<B and C>A:\n",
    "        return f'AC*BC = {(math.fabs(int(C-A))) * (math.fabs(int(C-B)))}'\n",
    "    else:\n",
    "        return 'Check on the values!'"
   ]
  },
  {
   "cell_type": "markdown",
   "metadata": {},
   "source": [
    "20"
   ]
  },
  {
   "cell_type": "code",
   "execution_count": 3,
   "metadata": {},
   "outputs": [],
   "source": [
    "def bb1(x1, x2, y1, y2):\n",
    "    return f'Masofa {((x2-x1)**2+(y2-y1)**2)**0.5}'"
   ]
  },
  {
   "cell_type": "markdown",
   "metadata": {},
   "source": [
    "22"
   ]
  },
  {
   "cell_type": "code",
   "execution_count": 6,
   "metadata": {},
   "outputs": [],
   "source": [
    "a = 3\n",
    "b = 5\n",
    "def swap_values(a, b):\n",
    "    mask = a\n",
    "    a = b\n",
    "    b = mask\n",
    "    return f'a={a}\\nb={b}'"
   ]
  },
  {
   "cell_type": "markdown",
   "metadata": {},
   "source": [
    "31"
   ]
  },
  {
   "cell_type": "code",
   "execution_count": 9,
   "metadata": {},
   "outputs": [],
   "source": [
    "def convert_far_to_cel():\n",
    "    f = int(input('Enter a temperature in degrees F: '))\n",
    "    c = (f-32)*5/9\n",
    "    print(f'{f} degrees in F = {round(c, 2)} degrees in C')"
   ]
  },
  {
   "cell_type": "code",
   "execution_count": 10,
   "metadata": {},
   "outputs": [],
   "source": [
    "def convert_cel_to_far():\n",
    "    c = int(input('Enter a temperature in degrees C: '))\n",
    "    f = c*(9/5)+32\n",
    "    print(f'{c} degrees in C = {round(f, 2)} degrees in F')"
   ]
  },
  {
   "cell_type": "code",
   "execution_count": 11,
   "metadata": {},
   "outputs": [],
   "source": [
    "def konfet(n):\n",
    "    a = int(input(f'1 KG = {n} so\\'m turadi\\n iltimos Y(KG)ni kiriting'))\n",
    "    return f'Total = {a*n}'"
   ]
  },
  {
   "cell_type": "code",
   "execution_count": null,
   "metadata": {},
   "outputs": [],
   "source": []
  }
 ],
 "metadata": {
  "kernelspec": {
   "display_name": "Python 3",
   "language": "python",
   "name": "python3"
  },
  "language_info": {
   "codemirror_mode": {
    "name": "ipython",
    "version": 3
   },
   "file_extension": ".py",
   "mimetype": "text/x-python",
   "name": "python",
   "nbconvert_exporter": "python",
   "pygments_lexer": "ipython3",
   "version": "3.12.3"
  }
 },
 "nbformat": 4,
 "nbformat_minor": 2
}
