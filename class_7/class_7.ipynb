{
 "cells": [
  {
   "cell_type": "code",
   "execution_count": 42,
   "metadata": {},
   "outputs": [],
   "source": [
    "import requests\n",
    "import csv\n",
    "import json"
   ]
  },
  {
   "cell_type": "code",
   "execution_count": 43,
   "metadata": {},
   "outputs": [],
   "source": [
    "data = {\n",
    "    'posts' : r'https://jsonplaceholder.typicode.com/posts',\n",
    "    'comments' : r'https://jsonplaceholder.typicode.com/comments',\n",
    "    'albums' : r'https://jsonplaceholder.typicode.com/photos',\n",
    "    'todos' : r'https://jsonplaceholder.typicode.com/todos',\n",
    "    'users' : r'https://jsonplaceholder.typicode.com/users'\n",
    "}"
   ]
  },
  {
   "cell_type": "code",
   "execution_count": 45,
   "metadata": {},
   "outputs": [],
   "source": [
    "def get_headers(response):\n",
    "    headers = set()\n",
    "    for item in response:\n",
    "        for key in item:\n",
    "            if isinstance(item[key], dict):\n",
    "                headers.update(item[key].keys())\n",
    "            else:\n",
    "                headers.add(key)\n",
    "    return list(headers)\n"
   ]
  },
  {
   "cell_type": "code",
   "execution_count": 46,
   "metadata": {},
   "outputs": [],
   "source": [
    "def get_values(item, headers):\n",
    "    row = []\n",
    "    for header in headers:\n",
    "        if isinstance(item.get(header), dict):\n",
    "            row.append(\"\")\n",
    "        else:\n",
    "            row.append(item.get(header, \"\"))\n",
    "    return row"
   ]
  },
  {
   "cell_type": "code",
   "execution_count": 48,
   "metadata": {},
   "outputs": [
    {
     "name": "stdout",
     "output_type": "stream",
     "text": [
      "Fetching data from https://jsonplaceholder.typicode.com/posts...\n",
      "Data written to posts.csv\n",
      "\n",
      "Fetching data from https://jsonplaceholder.typicode.com/comments...\n",
      "Data written to comments.csv\n",
      "\n",
      "Fetching data from https://jsonplaceholder.typicode.com/photos...\n",
      "Data written to albums.csv\n",
      "\n",
      "Fetching data from https://jsonplaceholder.typicode.com/todos...\n",
      "Data written to todos.csv\n",
      "\n",
      "Fetching data from https://jsonplaceholder.typicode.com/users...\n",
      "Data written to users.csv\n",
      "\n"
     ]
    }
   ],
   "source": [
    "for key, url in data.items():\n",
    "    print(f\"Fetching data from {url}...\")\n",
    "    response = requests.get(url)\n",
    "    if response.status_code == 200:\n",
    "        json_data = response.json()\n",
    "        headers = get_headers(json_data)\n",
    "        filename = f\"{key}.csv\"\n",
    "        \n",
    "        with open(filename, 'w', newline='', encoding='utf-8') as file:\n",
    "            writer = csv.writer(file)\n",
    "            writer.writerow(headers)\n",
    "            for item in json_data:\n",
    "                writer.writerow(get_values(item, headers))\n",
    "            \n",
    "        print(f\"Data written to {filename}\\n\")\n",
    "    else:\n",
    "        print(f\"Error occured while fetching\")"
   ]
  },
  {
   "cell_type": "code",
   "execution_count": null,
   "metadata": {},
   "outputs": [],
   "source": []
  }
 ],
 "metadata": {
  "kernelspec": {
   "display_name": "Python 3",
   "language": "python",
   "name": "python3"
  },
  "language_info": {
   "codemirror_mode": {
    "name": "ipython",
    "version": 3
   },
   "file_extension": ".py",
   "mimetype": "text/x-python",
   "name": "python",
   "nbconvert_exporter": "python",
   "pygments_lexer": "ipython3",
   "version": "3.12.3"
  }
 },
 "nbformat": 4,
 "nbformat_minor": 2
}
