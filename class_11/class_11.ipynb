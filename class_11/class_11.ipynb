{
 "cells": [
  {
   "cell_type": "code",
   "execution_count": 1,
   "metadata": {},
   "outputs": [],
   "source": [
    "from pyspark.sql import SparkSession\n",
    "from pyspark.sql.functions import col, dayofweek, avg, sum, asc"
   ]
  },
  {
   "cell_type": "code",
   "execution_count": null,
   "metadata": {},
   "outputs": [],
   "source": [
    "spark = SparkSession.builder.appName(\"SundaySalesAnalysis\").getOrCreate()"
   ]
  },
  {
   "cell_type": "code",
   "execution_count": null,
   "metadata": {},
   "outputs": [],
   "source": [
    "fact_internet_sales = spark.read.csv(r\"D:\\projects\\bi_and_ai_group\\lesson 11\\data\\adv\\fact_internet_sales.csv\", header=True, inferSchema=True)\n",
    "dim_product = spark.read.csv(r\"D:\\projects\\bi_and_ai_group\\lesson 11\\data\\adv\\dim_product.csv\", header=True, inferSchema=True)\n",
    "dim_customer = spark.read.csv(r\"D:\\projects\\bi_and_ai_group\\lesson 11\\data\\adv\\dim_customer.csv\", header=True, inferSchema=True)"
   ]
  },
  {
   "cell_type": "code",
   "execution_count": null,
   "metadata": {},
   "outputs": [],
   "source": [
    "sales_with_details = fact_internet_sales \\\n",
    "    .join(dim_product, fact_internet_sales[\"ProductKey\"] == dim_product[\"ProductKey\"], \"inner\") \\\n",
    "    .join(dim_customer, fact_internet_sales[\"CustomerKey\"] == dim_customer[\"CustomerKey\"], \"inner\")\n",
    "    "
   ]
  },
  {
   "cell_type": "code",
   "execution_count": null,
   "metadata": {},
   "outputs": [],
   "source": [
    "filtered_sales = sales_with_details.filter(\n",
    "    (dayofweek(\"OrderDate\") == 1) &\n",
    "    (col(\"Color\") == \"Silver\") &\n",
    "    (col(\"Size\").isNotNull()) &\n",
    "    (col(\"Weight\") > 10) &\n",
    "    (col(\"YearlyIncome\") > 100000.0) &\n",
    "    (col(\"NumberChildrenAtHome\") > 1)\n",
    ")"
   ]
  },
  {
   "cell_type": "code",
   "execution_count": null,
   "metadata": {},
   "outputs": [],
   "source": [
    "aggregated_sales = filtered_sales.groupBy(\"CustomerKey\", \"FirstName\").agg(\n",
    "    sum(\"TaxAmt\").alias(\"TotalTaxAmt\"),\n",
    "    avg(\"SalesAmount\").alias(\"AvgSalesAmount\"),\n",
    "    avg(\"TotalProductCost\").alias(\"AvgTotalProductCost\")\n",
    ")"
   ]
  },
  {
   "cell_type": "code",
   "execution_count": null,
   "metadata": {},
   "outputs": [],
   "source": [
    "final_result = aggregated_sales.sort(asc(\"FirstName\")).drop(\"CustomerKey\")"
   ]
  },
  {
   "cell_type": "code",
   "execution_count": null,
   "metadata": {},
   "outputs": [],
   "source": [
    "final_result.show()"
   ]
  }
 ],
 "metadata": {
  "kernelspec": {
   "display_name": "Python 3",
   "language": "python",
   "name": "python3"
  },
  "language_info": {
   "codemirror_mode": {
    "name": "ipython",
    "version": 3
   },
   "file_extension": ".py",
   "mimetype": "text/x-python",
   "name": "python",
   "nbconvert_exporter": "python",
   "pygments_lexer": "ipython3",
   "version": "3.12.3"
  }
 },
 "nbformat": 4,
 "nbformat_minor": 2
}
